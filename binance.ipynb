{
 "cells": [
  {
   "cell_type": "code",
   "execution_count": 9,
   "metadata": {},
   "outputs": [],
   "source": [
    "import ccxt, yfinance\n",
    "import pandas as pd\n",
    "import pandas_ta as ta\n"
   ]
  },
  {
   "cell_type": "code",
   "execution_count": 10,
   "metadata": {},
   "outputs": [
    {
     "name": "stdout",
     "output_type": "stream",
     "text": [
      "              time     open     high      low    close        volume\n",
      "0    1611100800000  1365.36  1407.93  1235.42  1376.99  2.219138e+06\n",
      "1    1611187200000  1376.72  1390.00  1086.00  1110.96  2.254165e+06\n",
      "2    1611273600000  1111.98  1273.79  1042.31  1232.62  2.020593e+06\n",
      "3    1611360000000  1232.61  1272.44  1195.90  1233.60  1.009545e+06\n",
      "4    1611446400000  1233.46  1398.83  1220.00  1392.51  1.510880e+06\n",
      "..             ...      ...      ...      ...      ...           ...\n",
      "495  1653868800000  1813.64  2013.00  1803.18  1998.78  8.149228e+05\n",
      "496  1653955200000  1998.78  2016.45  1925.00  1941.90  7.511034e+05\n",
      "497  1654041600000  1941.90  1972.58  1763.75  1817.95  1.037841e+06\n",
      "498  1654128000000  1817.96  1853.05  1782.42  1834.08  7.887844e+05\n",
      "499  1654214400000  1834.09  1843.91  1737.00  1788.43  7.022080e+05\n",
      "\n",
      "[500 rows x 6 columns]\n"
     ]
    }
   ],
   "source": [
    "exchage = ccxt.binance()\n",
    "\n",
    "bars = exchage.fetch_ohlcv('ETH/USDT',timeframe='1d', limit=500)\n",
    "df=pd.DataFrame(bars,columns=[\"time\",\"open\",\"high\",\"low\",\"close\",\"volume\"])\n",
    "\n",
    "print(df)\n"
   ]
  }
 ],
 "metadata": {
  "interpreter": {
   "hash": "916dbcbb3f70747c44a77c7bcd40155683ae19c65e1c03b4aa3499c5328201f1"
  },
  "kernelspec": {
   "display_name": "Python 3.8.10 64-bit",
   "language": "python",
   "name": "python3"
  },
  "language_info": {
   "codemirror_mode": {
    "name": "ipython",
    "version": 3
   },
   "file_extension": ".py",
   "mimetype": "text/x-python",
   "name": "python",
   "nbconvert_exporter": "python",
   "pygments_lexer": "ipython3",
   "version": "3.8.10"
  },
  "orig_nbformat": 4
 },
 "nbformat": 4,
 "nbformat_minor": 2
}
