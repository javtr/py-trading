{
 "cells": [
  {
   "cell_type": "code",
   "execution_count": 11,
   "metadata": {},
   "outputs": [],
   "source": [
    "import ccxt, yfinance\n",
    "import pandas as pd\n",
    "import pandas_ta as ta\n",
    "\n",
    "\n",
    "\n"
   ]
  },
  {
   "cell_type": "code",
   "execution_count": 12,
   "metadata": {},
   "outputs": [
    {
     "name": "stdout",
     "output_type": "stream",
     "text": [
      "              time     open     high      low    close        volume\n",
      "0    1567900800000   177.58   184.18   176.13   181.19  2.900835e+05\n",
      "1    1567987200000   181.18   185.38   176.01   180.54  2.737299e+05\n",
      "2    1568073600000   180.52   184.36   177.00   179.81  2.383875e+05\n",
      "3    1568160000000   179.87   182.80   173.00   178.28  2.785555e+05\n",
      "4    1568246400000   178.30   182.38   176.62   180.72  2.035431e+05\n",
      "..             ...      ...      ...      ...      ...           ...\n",
      "995  1653868800000  1813.64  2013.00  1803.18  1998.78  8.149228e+05\n",
      "996  1653955200000  1998.78  2016.45  1925.00  1941.90  7.511034e+05\n",
      "997  1654041600000  1941.90  1972.58  1763.75  1817.95  1.037841e+06\n",
      "998  1654128000000  1817.96  1853.05  1782.42  1834.08  7.887844e+05\n",
      "999  1654214400000  1834.09  1843.91  1737.00  1790.67  7.120058e+05\n",
      "\n",
      "[1000 rows x 6 columns]\n"
     ]
    }
   ],
   "source": [
    "exchage = ccxt.binance()\n",
    "\n",
    "\n",
    "\n",
    "\n",
    "\n",
    "\n",
    "\n",
    "\n",
    "\n",
    "\n",
    "bars = exchage.fetch_ohlcv('ETH/USDT',timeframe='1d', limit=1500)\n",
    "df=pd.DataFrame(bars,columns=[\"time\",\"open\",\"high\",\"low\",\"close\",\"volume\"])\n",
    "\n",
    "print(df)\n"
   ]
  }
 ],
 "metadata": {
  "interpreter": {
   "hash": "916dbcbb3f70747c44a77c7bcd40155683ae19c65e1c03b4aa3499c5328201f1"
  },
  "kernelspec": {
   "display_name": "Python 3.8.10 64-bit",
   "language": "python",
   "name": "python3"
  },
  "language_info": {
   "codemirror_mode": {
    "name": "ipython",
    "version": 3
   },
   "file_extension": ".py",
   "mimetype": "text/x-python",
   "name": "python",
   "nbconvert_exporter": "python",
   "pygments_lexer": "ipython3",
   "version": "3.8.10"
  },
  "orig_nbformat": 4
 },
 "nbformat": 4,
 "nbformat_minor": 2
}
